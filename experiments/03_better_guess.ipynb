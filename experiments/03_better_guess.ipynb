{
 "cells": [
  {
   "cell_type": "code",
   "execution_count": 141,
   "metadata": {},
   "outputs": [],
   "source": [
    "from pyscf import gto, scf, mcscf\n",
    "from pyscf.mcscf import apc\n",
    "import matplotlib as mpl\n",
    "import matplotlib.pyplot as plt\n",
    "from utils.mcscf import n_csfs"
   ]
  },
  {
   "cell_type": "markdown",
   "metadata": {},
   "source": [
    "# Changing the initial guess\n",
    "Last time, I was investigating spin state and found that the relative energy of the lowest triplet state varied quite a lot depending on the choice of starting guess (RHF, UHF, ROHF) and active space size. I want to try altering the initial guess (and therefore the initial orbitals) to see how much of an effect that has on the energies"
   ]
  },
  {
   "cell_type": "code",
   "execution_count": 2,
   "metadata": {},
   "outputs": [],
   "source": [
    "geom = \"\"\"\n",
    "O1  0.0000  0.0000  0.0000;\n",
    "O2  1.0833  0.6667  0.0000;\n",
    "O3 -1.0833  0.6667  0.0000;\n",
    "\"\"\""
   ]
  },
  {
   "cell_type": "code",
   "execution_count": 3,
   "metadata": {},
   "outputs": [],
   "source": [
    "basis_sets = {\"TZVP\": \"def2-tzvp\",}"
   ]
  },
  {
   "cell_type": "code",
   "execution_count": 4,
   "metadata": {},
   "outputs": [],
   "source": [
    "results = {}"
   ]
  },
  {
   "cell_type": "markdown",
   "metadata": {},
   "source": [
    "Going to try SCAN0, a hybrid meta GGA functional. The parent SCAN mGGA is a (heavy airquotes) \"parameter-free\" functional that has been constructed to meet a quite a lot of known exact constraints on the functional. SCAN0 replaces 25% of the exchange with exact exchange (e.g. HF exchange)."
   ]
  },
  {
   "cell_type": "code",
   "execution_count": 5,
   "metadata": {},
   "outputs": [],
   "source": [
    "mf_methods = {\"singlet RKS\": {\"2S\": 0, \"mf\": scf.RKS, \"xc\": \"SCAN0\"},\n",
    "              \"triplet UKS\": {\"2S\": 2, \"mf\": scf.UKS, \"xc\": \"SCAN0\"},\n",
    "              \"triplet ROKS\": {\"2S\": 2, \"mf\": scf.ROKS, \"xc\": \"SCAN0\"},}"
   ]
  },
  {
   "cell_type": "code",
   "execution_count": 6,
   "metadata": {},
   "outputs": [
    {
     "name": "stderr",
     "output_type": "stream",
     "text": [
      "/Users/ch1tk/PROJECTS/ozone/.venv/lib/python3.11/site-packages/pyscf/dft/libxc.py:772: UserWarning: Since PySCF-2.3, B3LYP (and B3P86) are changed to the VWN-RPA variant, the same to the B3LYP functional in Gaussian and ORCA (issue 1480). To restore the VWN5 definition, you can put the setting \"B3LYP_WITH_VWN5 = True\" in pyscf_conf.py\n",
      "  warnings.warn('Since PySCF-2.3, B3LYP (and B3P86) are changed to the VWN-RPA variant, '\n"
     ]
    },
    {
     "name": "stdout",
     "output_type": "stream",
     "text": [
      "converged SCF energy = -223.961312961227\n",
      "converged SCF energy = -223.906538257701  <S^2> = 2.0034924  2S+1 = 3.0023274\n",
      "converged SCF energy = -223.90507047673\n"
     ]
    }
   ],
   "source": [
    "for mult, method in mf_methods.items():        \n",
    "    for basis, basis_set in basis_sets.items():\n",
    "        mol = gto.M(atom=geom, basis=basis_set, spin=method[\"2S\"]).build()\n",
    "        mol.xc = method[\"xc\"]\n",
    "        name = f\"{mult}: {method['xc']}/{basis}\"\n",
    "        mf = method[\"mf\"](mol).density_fit()\n",
    "        mf.kernel()\n",
    "        results[name] = {\"mol\": mol, \"mf\": mf}"
   ]
  },
  {
   "cell_type": "code",
   "execution_count": 7,
   "metadata": {},
   "outputs": [
    {
     "name": "stdout",
     "output_type": "stream",
     "text": [
      "singlet RKS: SCAN0/TZVP: -223.96131296122667\n",
      "triplet UKS: SCAN0/TZVP: -223.90653825770067\n",
      "triplet ROKS: SCAN0/TZVP: -223.90507047672986\n"
     ]
    }
   ],
   "source": [
    "for name, result in results.items():\n",
    "    print(f\"{name}: {result['mf'].e_tot}\")"
   ]
  },
  {
   "cell_type": "markdown",
   "metadata": {},
   "source": [
    "* Remember that we can only compare the relative energies of the states between the HF and SCAN0 results, as the lower bound of the KS energy depends on the choice of functional. Since we aren't using the exact XC functional, it's virtually meaningless to compare the absolute HF and SCAN0 energies.\n",
    "* The singlet-triplet gaps are $\\sim0.01\\ E_h$ and $\\sim0.04\\ E_h$ for RHF/UHF and RHF/ROHF respectively\n",
    "* For SCAN0, they are much larger and closer together, both around $\\sim0.05\\ E_h$, which is closer to the CAS(6,6) results ($\\sim0.04\\ E_h$)"
   ]
  },
  {
   "cell_type": "code",
   "execution_count": 46,
   "metadata": {},
   "outputs": [
    {
     "name": "stdout",
     "output_type": "stream",
     "text": [
      "CASSCF energy = -224.481747343791\n",
      "CASCI E = -224.481747343791  E(CI) = -6.00357228093978  S^2 = 0.0000000\n",
      "CASSCF energy = -224.586608116983\n",
      "CASCI E = -224.586608116983  E(CI) = -20.5258519067391  S^2 = 0.0000000\n",
      "CASSCF energy = -224.444705250077\n",
      "CASCI E = -224.444705250077  E(CI) = -5.99975679635264  S^2 = 2.0000000\n",
      "CASSCF energy = -224.532012727735\n",
      "CASCI E = -224.532012727735  E(CI) = -20.6723874671266  S^2 = 2.0000000\n",
      "CASSCF energy = -224.444705257615\n",
      "CASCI E = -224.444705257615  E(CI) = -5.99956256798083  S^2 = 2.0000000\n",
      "CASSCF energy = -224.512239952218\n",
      "CASCI E = -224.512239952218  E(CI) = -20.4965730369311  S^2 = 2.0000000\n"
     ]
    }
   ],
   "source": [
    "for mult, method in mf_methods.items():        \n",
    "    for basis, basis_set in basis_sets.items():\n",
    "        mf_name = f\"{mult}: {method['xc']}/{basis}\"\n",
    "        for n_elec in [4, 6, 8]:\n",
    "            cas_name = f\"{mult}: CAS({n_elec}/{n_elec})SCF//{method['xc']}/{basis}\"\n",
    "            if results.get(cas_name) is None:\n",
    "                mc = mcscf.DFCASSCF(results[mf_name][\"mf\"], n_elec, n_elec)\n",
    "                mc.kernel()\n",
    "                results[cas_name] = mc"
   ]
  },
  {
   "cell_type": "code",
   "execution_count": 47,
   "metadata": {},
   "outputs": [
    {
     "name": "stdout",
     "output_type": "stream",
     "text": [
      "singlet RKS: CAS(4/4)SCF//SCAN0/TZVP: -224.4817473437911\n",
      "singlet RKS: CAS(6/6)SCF//SCAN0/TZVP: -224.5258564016024\n",
      "singlet RKS: CAS(8/8)SCF//SCAN0/TZVP: -224.58660811698326\n",
      "triplet UKS: CAS(4/4)SCF//SCAN0/TZVP: -224.44470525007728\n",
      "triplet UKS: CAS(6/6)SCF//SCAN0/TZVP: -224.4817028089315\n",
      "triplet UKS: CAS(8/8)SCF//SCAN0/TZVP: -224.53201272773504\n",
      "triplet ROKS: CAS(4/4)SCF//SCAN0/TZVP: -224.44470525761463\n",
      "triplet ROKS: CAS(6/6)SCF//SCAN0/TZVP: -224.48170280896326\n",
      "triplet ROKS: CAS(8/8)SCF//SCAN0/TZVP: -224.51223995221778\n"
     ]
    }
   ],
   "source": [
    "for mult, method in mf_methods.items():        \n",
    "    for basis, basis_set in basis_sets.items():\n",
    "        for n_elec in [4, 6, 8]:\n",
    "            cas_name = f\"{mult}: CAS({n_elec}/{n_elec})SCF//{method['xc']}/{basis}\"\n",
    "            print(f\"{cas_name}: {results[cas_name].e_tot}\")"
   ]
  },
  {
   "cell_type": "markdown",
   "metadata": {},
   "source": [
    "These results are identical (within convergence critera) to the results using HF references."
   ]
  },
  {
   "cell_type": "markdown",
   "metadata": {},
   "source": [
    "# Automated active space selection\n",
    "\n",
    "PySCF has a couple of automated active space selection methods. From the reading I've done, two of them (AVAS and DMET) seem to be based on specifying some atomic orbitals that you expect the important MOs to be based on, and there is another called APC which uses entropy metrics to estimate which orbitals are the important ones. This reminds me of some other active space selection methods that used entaglement that I believe were used for automatic DMRG calculations but I can't remember the specifics. I'm going to try APC for now since that seems most relevant to ozone."
   ]
  },
  {
   "cell_type": "code",
   "execution_count": 10,
   "metadata": {},
   "outputs": [],
   "source": [
    "results_apc = {}"
   ]
  },
  {
   "cell_type": "code",
   "execution_count": 12,
   "metadata": {},
   "outputs": [
    {
     "name": "stdout",
     "output_type": "stream",
     "text": [
      "\n",
      "** APC Active Space Selection **\n",
      "Calculating APC entropies (N=2)...\n",
      "Transforming F and K to MO basis...\n",
      "Calculating initial APC entropies...\n",
      "Maximum entropy: 0.68996\n",
      "Setting maximum virtual orbitals [14] to occupation 1...\n",
      "Calculating APC entropies (Round 1)...\n",
      "Maximum entropy: 0.69247\n",
      "Setting maximum virtual orbitals [14, 13] to occupation 1...\n",
      "Calculating final APC entropies...\n",
      "Maximum entropy: 0.69411\n",
      "Choosing active space with ranked orbital approach (max_size = 4)...\n",
      "Final selected active space: ((2, 2),4)\n",
      "CASSCF energy = -224.419246143133\n",
      "CASCI E = -224.419246143133  E(CI) = -7.42364114866425  S^2 = 0.0000000\n",
      "\n",
      "** APC Active Space Selection **\n",
      "Calculating APC entropies (N=2)...\n",
      "Transforming F and K to MO basis...\n",
      "Calculating initial APC entropies...\n",
      "Maximum entropy: 0.68996\n",
      "Setting maximum virtual orbitals [14] to occupation 1...\n",
      "Calculating APC entropies (Round 1)...\n",
      "Maximum entropy: 0.69247\n",
      "Setting maximum virtual orbitals [14, 13] to occupation 1...\n",
      "Calculating final APC entropies...\n",
      "Maximum entropy: 0.69411\n",
      "Choosing active space with ranked orbital approach (max_size = 5)...\n",
      "Final selected active space: ((3, 3),5)\n",
      "CASSCF energy = -224.504470657799\n",
      "CASCI E = -224.504470657799  E(CI) = -11.8311000522237  S^2 = 0.0000000\n",
      "\n",
      "** APC Active Space Selection **\n",
      "Calculating APC entropies (N=2)...\n",
      "Transforming F and K to MO basis...\n",
      "Calculating initial APC entropies...\n",
      "Maximum entropy: 0.68996\n",
      "Setting maximum virtual orbitals [14] to occupation 1...\n",
      "Calculating APC entropies (Round 1)...\n",
      "Maximum entropy: 0.69247\n",
      "Setting maximum virtual orbitals [14, 13] to occupation 1...\n",
      "Calculating final APC entropies...\n",
      "Maximum entropy: 0.69411\n",
      "Choosing active space with ranked orbital approach (max_size = 6)...\n",
      "Final selected active space: ((4, 4),6)\n",
      "CASSCF energy = -224.508532514908\n",
      "CASCI E = -224.508532514908  E(CI) = -19.2206687446351  S^2 = 0.0000000\n",
      "\n",
      "** APC Active Space Selection **\n",
      "Calculating APC entropies (N=2)...\n",
      "Transforming F and K to MO basis...\n",
      "Calculating initial APC entropies...\n",
      "Maximum entropy: 0.68996\n",
      "Setting maximum virtual orbitals [14] to occupation 1...\n",
      "Calculating APC entropies (Round 1)...\n",
      "Maximum entropy: 0.69247\n",
      "Setting maximum virtual orbitals [14, 13] to occupation 1...\n",
      "Calculating final APC entropies...\n",
      "Maximum entropy: 0.69411\n",
      "Choosing active space with ranked orbital approach (max_size = 7)...\n",
      "Final selected active space: ((5, 5),7)\n",
      "CASSCF energy = -224.511507485864\n",
      "CASCI E = -224.511507485864  E(CI) = -29.1026075496394  S^2 = 0.0000000\n",
      "\n",
      "** APC Active Space Selection **\n",
      "Calculating APC entropies (N=2)...\n",
      "Transforming F and K to MO basis...\n",
      "Calculating initial APC entropies...\n",
      "Maximum entropy: 0.68996\n",
      "Setting maximum virtual orbitals [14] to occupation 1...\n",
      "Calculating APC entropies (Round 1)...\n",
      "Maximum entropy: 0.69247\n",
      "Setting maximum virtual orbitals [14, 13] to occupation 1...\n",
      "Calculating final APC entropies...\n",
      "Maximum entropy: 0.69411\n",
      "Choosing active space with ranked orbital approach (max_size = 8)...\n",
      "Final selected active space: ((6, 6),8)\n",
      "CASSCF energy = -224.513005542744\n",
      "CASCI E = -224.513005542744  E(CI) = -41.3295801958332  S^2 = 0.0000000\n",
      "\n",
      "** APC Active Space Selection **\n",
      "Calculating APC entropies (N=2)...\n",
      "Transforming F and K to MO basis...\n",
      "Calculating initial APC entropies...\n",
      "Maximum entropy: 0.68996\n",
      "Setting maximum virtual orbitals [14] to occupation 1...\n",
      "Calculating APC entropies (Round 1)...\n",
      "Maximum entropy: 0.69247\n",
      "Setting maximum virtual orbitals [14, 13] to occupation 1...\n",
      "Calculating final APC entropies...\n",
      "Maximum entropy: 0.69411\n",
      "Choosing active space with ranked orbital approach (max_size = 9)...\n",
      "Final selected active space: ((7, 7),9)\n",
      "CASSCF energy = -224.513499937616\n",
      "CASCI E = -224.513499937616  E(CI) = -54.2589575931444  S^2 = 0.0000000\n",
      "\n",
      "** APC Active Space Selection **\n",
      "Calculating APC entropies (N=2)...\n",
      "Transforming F and K to MO basis...\n",
      "Calculating initial APC entropies...\n",
      "Maximum entropy: 0.68996\n",
      "Setting maximum virtual orbitals [14] to occupation 1...\n",
      "Calculating APC entropies (Round 1)...\n",
      "Maximum entropy: 0.69247\n",
      "Setting maximum virtual orbitals [14, 13] to occupation 1...\n",
      "Calculating final APC entropies...\n",
      "Maximum entropy: 0.69411\n",
      "Choosing active space with ranked orbital approach (max_size = 10)...\n",
      "Final selected active space: ((7, 7),10)\n",
      "CASSCF energy = -224.583844289484\n",
      "CASCI E = -224.583844289484  E(CI) = -53.8545603077852  S^2 = 0.0000000\n",
      "\n",
      "** APC Active Space Selection **\n",
      "Calculating APC entropies (N=2)...\n",
      "Transforming F and K to MO basis...\n",
      "Calculating initial APC entropies...\n",
      "Maximum entropy: 0.68996\n",
      "Setting maximum virtual orbitals [14] to occupation 1...\n",
      "Calculating APC entropies (Round 1)...\n",
      "Maximum entropy: 0.69247\n",
      "Setting maximum virtual orbitals [14, 13] to occupation 1...\n",
      "Calculating final APC entropies...\n",
      "Maximum entropy: 0.69411\n",
      "Choosing active space with ranked orbital approach (max_size = 11)...\n",
      "Final selected active space: ((8, 8),11)\n",
      "CASSCF energy = -224.586478633000\n",
      "CASCI E = -224.586478633000  E(CI) = -68.2687412280719  S^2 = 0.0000000\n",
      "\n",
      "** APC Active Space Selection **\n",
      "Calculating APC entropies (N=2)...\n",
      "Transforming F and K to MO basis...\n",
      "Calculating initial APC entropies...\n",
      "Maximum entropy: 0.68996\n",
      "Setting maximum virtual orbitals [14] to occupation 1...\n",
      "Calculating APC entropies (Round 1)...\n",
      "Maximum entropy: 0.69247\n",
      "Setting maximum virtual orbitals [14, 13] to occupation 1...\n",
      "Calculating final APC entropies...\n",
      "Maximum entropy: 0.69411\n",
      "Choosing active space with ranked orbital approach (max_size = 12)...\n",
      "Final selected active space: ((9, 9),12)\n",
      "CASSCF energy = -224.589547633972\n",
      "CASCI E = -224.589547633972  E(CI) = -86.1286325148376  S^2 = 0.0000000\n"
     ]
    }
   ],
   "source": [
    "mf = results['singlet RKS: SCAN0/TZVP']['mf']\n",
    "for max_size in range(4, 13):\n",
    "    myapc = apc.APC(mf, max_size=max_size)\n",
    "    n_cas, n_elec_cas, cas_orbs = myapc.kernel()\n",
    "    mc = mcscf.DFCASSCF(mf, n_cas, n_elec_cas)\n",
    "    mc.mo_coeff = cas_orbs\n",
    "    mc.kernel()\n",
    "    results_apc[max_size] = mc"
   ]
  },
  {
   "cell_type": "code",
   "execution_count": 130,
   "metadata": {},
   "outputs": [
    {
     "data": {
      "image/png": "[encoded data removed]",
      "text/plain": [
       "<Figure size 640x480 with 1 Axes>"
      ]
     },
     "metadata": {},
     "output_type": "display_data"
    }
   ],
   "source": [
    "fig, ax = plt.subplots()\n",
    "normal_n_orb = [4, 6, 8]\n",
    "normal_e_tot = [results[f\"singlet RKS: CAS({n_orb}/{n_orb})SCF//SCAN0/TZVP\"].e_tot for n_orb in [4, 6, 8]]\n",
    "normal_cas = [f\"({results[f'singlet RKS: CAS({n_orb}/{n_orb})SCF//SCAN0/TZVP'].nelecas[0] * 2},{n_orb})\" for n_orb in [4, 6, 8]]\n",
    "ax.scatter(x=normal_n_orb, y=normal_e_tot, color='red', label='Normal')\n",
    "for i in range(len(normal_n_orb)):\n",
    "    ax.annotate(normal_cas[i], (normal_n_orb[i], normal_e_tot[i] + 0.003), va='bottom', ha='center')\n",
    "apc_n_orb = range(4, 13)\n",
    "apc_e_tot = [results_apc[i].e_tot for i in range(4, 13)]\n",
    "apc_cas = [f\"({results_apc[i].nelecas[0] * 2},{i})\" for i in range(4, 13)]\n",
    "ax.scatter(x=apc_n_orb, y=apc_e_tot, color='blue', label='APC')\n",
    "for i in range(len(apc_n_orb)):\n",
    "    ax.annotate(apc_cas[i], (apc_n_orb[i], apc_e_tot[i] + 0.003), va='bottom', ha='center')\n",
    "ax.set_ylabel(\"Total energy / $E_{h}$\")\n",
    "ax.set_xlabel(\"$n_{orb}$\")\n",
    "ax.legend()\n",
    "plt.show()"
   ]
  },
  {
   "cell_type": "markdown",
   "metadata": {},
   "source": [
    "These results are quite disappointing. It seems like the naive approach of energy ordering yields better results than using APC. I haven't really been paying attention to execution times, so perhaps in terms of CSFs the APC results are more efficient?"
   ]
  },
  {
   "cell_type": "code",
   "execution_count": 139,
   "metadata": {},
   "outputs": [
    {
     "data": {
      "image/png": "[encoded data removed]",
      "text/plain": [
       "<Figure size 640x480 with 1 Axes>"
      ]
     },
     "metadata": {},
     "output_type": "display_data"
    }
   ],
   "source": [
    "fig, ax = plt.subplots()\n",
    "normal_n_csf = [n_csfs(i, i // 2, i // 2) for i in [4, 6, 8]]\n",
    "ax.scatter(x=normal_n_csf, y=normal_e_tot, color='red', label='Normal')\n",
    "for i in range(len(normal_n_orb)):\n",
    "    ax.annotate(normal_cas[i], (normal_n_csf[i], normal_e_tot[i] + 0.003), va='bottom', ha='center')\n",
    "apc_n_csf = [n_csfs(i, *results_apc[i].nelecas) for i in range(4, 13)]\n",
    "ax.scatter(x=apc_n_csf, y=apc_e_tot, color='blue', label='APC')\n",
    "for i in range(len(apc_n_orb)):\n",
    "    ax.annotate(apc_cas[i], (apc_n_csf[i], apc_e_tot[i] + 0.003), va='bottom', ha='center')\n",
    "ax.set_ylabel(\"Total energy / $E_{h}$\")\n",
    "ax.set_xlabel(\"$N_{CSF}$\")\n",
    "ax.set_xscale(\"log\")\n",
    "ax.legend()\n",
    "plt.show()"
   ]
  },
  {
   "cell_type": "markdown",
   "metadata": {},
   "source": [
    "Again, quite disappointing. APC doesn't seem to be able to choose more efficient representations. Perhaps I'm misunderstanding this but it seems like the naive approach is more effective."
   ]
  }
 ],
 "metadata": {
  "kernelspec": {
   "display_name": ".venv",
   "language": "python",
   "name": "python3"
  },
  "language_info": {
   "codemirror_mode": {
    "name": "ipython",
    "version": 3
   },
   "file_extension": ".py",
   "mimetype": "text/x-python",
   "name": "python",
   "nbconvert_exporter": "python",
   "pygments_lexer": "ipython3",
   "version": "3.11.4"
  },
  "orig_nbformat": 4
 },
 "nbformat": 4,
 "nbformat_minor": 2
}
