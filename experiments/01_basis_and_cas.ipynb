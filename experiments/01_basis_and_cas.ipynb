{
 "cells": [
  {
   "cell_type": "code",
   "execution_count": 69,
   "metadata": {},
   "outputs": [],
   "source": [
    "from pyscf import gto, scf, mcscf\n",
    "import matplotlib as mpl\n",
    "import matplotlib.pyplot as plt\n"
   ]
  },
  {
   "cell_type": "markdown",
   "metadata": {},
   "source": [
    "Geometry from [Tanaka & Morino, _J. Mol. Spect._, **1970**, *33*, 538-551](https://www.sciencedirect.com/science/article/abs/pii/0022285270901487)\n",
    "\n",
    "> O-O bond length = 1.272 Å  \n",
    "> O-O-O angle = 116.78°"
   ]
  },
  {
   "cell_type": "code",
   "execution_count": 2,
   "metadata": {},
   "outputs": [],
   "source": [
    "geom = \"\"\"\n",
    "O1  0.0000  0.0000  0.0000;\n",
    "O2  1.0833  0.6667  0.0000;\n",
    "O3 -1.0833  0.6667  0.0000;\n",
    "\"\"\""
   ]
  },
  {
   "cell_type": "markdown",
   "metadata": {},
   "source": [
    "Ahlrics basis sets, from double to quadruple zeta and without/with diffuse functions"
   ]
  },
  {
   "cell_type": "code",
   "execution_count": 47,
   "metadata": {},
   "outputs": [],
   "source": [
    "basis_sets = {\"SVP\": \"def2-svp\",\n",
    "              \"SVPD\": \"def2-svpd\", \n",
    "              \"TZVP\": \"def2-tzvp\",\n",
    "              \"TZVPD\": \"def2-tzvpd\",\n",
    "              \"QZVP\": \"def2-qzvp\",\n",
    "              \"QZVPD\": \"def2-qzvpd\"}"
   ]
  },
  {
   "cell_type": "code",
   "execution_count": 51,
   "metadata": {},
   "outputs": [],
   "source": [
    "results = {}"
   ]
  },
  {
   "cell_type": "code",
   "execution_count": 52,
   "metadata": {},
   "outputs": [
    {
     "name": "stdout",
     "output_type": "stream",
     "text": [
      "converged SCF energy = -224.057022451971\n",
      "converged SCF energy = -224.074631790138\n",
      "converged SCF energy = -224.351710462103\n",
      "converged SCF energy = -224.353165062652\n",
      "converged SCF energy = -224.361977544458\n",
      "converged SCF energy = -224.362624105908\n"
     ]
    }
   ],
   "source": [
    "for name, basis_set in basis_sets.items():\n",
    "    mol = gto.M(atom=geom, basis=basis_set).build()\n",
    "    rhf = scf.RHF(mol).density_fit()\n",
    "    rhf.kernel()\n",
    "    results[name] = {\"mol\": mol, \"RHF\": rhf}"
   ]
  },
  {
   "cell_type": "markdown",
   "metadata": {},
   "source": [
    "How does the number of basis functions affect the energy?\n",
    "* Going from double -> triple zeta improves the energy substantially. Triple -> quadruple zeta is a smaller improvement\n",
    "* The greater number of basis functions in the parent basis set, the lesser the effect of adding diffuse functions"
   ]
  },
  {
   "cell_type": "code",
   "execution_count": 53,
   "metadata": {},
   "outputs": [
    {
     "name": "stdout",
     "output_type": "stream",
     "text": [
      "SVP    (18): -224.057022451971\n",
      "SVPD   (27): -224.074631790138\n",
      "TZVP   (33): -224.351710462103\n",
      "TZVPD  (42): -224.353165062652\n",
      "QZVP   (51): -224.361977544458\n",
      "QZVPD  (60): -224.362624105908\n"
     ]
    }
   ],
   "source": [
    "for name, result in results.items():\n",
    "    n_basis = len(result[\"mol\"]._basis[\"O1\"]) * 3\n",
    "    e_rhf = result[\"RHF\"].energy_tot()\n",
    "    print(f\"{name:7}({n_basis}): {e_rhf:.12f}\")\n"
   ]
  },
  {
   "cell_type": "markdown",
   "metadata": {},
   "source": [
    "Some very simplistic active space selections.\n",
    "\n",
    "For this system, I would expect that (18,18) would be the limit, since this would include all 2s and 2p electrons in the active space. \n",
    "\n",
    "Initially checking (4,4) up to (12,12)"
   ]
  },
  {
   "cell_type": "code",
   "execution_count": 67,
   "metadata": {},
   "outputs": [
    {
     "name": "stdout",
     "output_type": "stream",
     "text": [
      "CASSCF energy = -224.343691220647\n",
      "CASCI E = -224.343691220647  E(CI) = -39.7465030638493  S^2 = 0.0000000\n",
      "CASSCF energy = -224.367587475579\n",
      "CASCI E = -224.367587475579  E(CI) = -42.3622834344245  S^2 = 0.0000000\n",
      "CASSCF energy = -224.646772880189\n",
      "CASCI E = -224.646772880189  E(CI) = -42.3621374994670  S^2 = 0.0000000\n",
      "CASSCF energy = -224.648297447382\n",
      "CASCI E = -224.648297447382  E(CI) = -42.3723533383497  S^2 = 0.0000000\n",
      "CASSCF energy = -224.656892237845\n",
      "CASCI E = -224.656892237845  E(CI) = -42.3700899592683  S^2 = 0.0000000\n",
      "CASSCF energy = -224.664706038722\n",
      "CASCI E = -224.664706038722  E(CI) = -42.6457267853080  S^2 = 0.0000000\n"
     ]
    }
   ],
   "source": [
    "for name, result in results.items():\n",
    "    for n_elec in [4, 6, 8, 10, 12]:\n",
    "        mc_name = f\"CAS({n_elec},{n_elec})SCF\"\n",
    "        if results[name].get(mc_name) is None:\n",
    "            mc = mcscf.DFCASSCF(result[\"RHF\"], n_elec, n_elec)\n",
    "            mc.kernel()\n",
    "            results[name][mc_name] = mc"
   ]
  },
  {
   "cell_type": "markdown",
   "metadata": {},
   "source": [
    "Very simple plot of number of basis functions vs total energy"
   ]
  },
  {
   "cell_type": "code",
   "execution_count": 71,
   "metadata": {},
   "outputs": [
    {
     "data": {
      "text/plain": [
       "<matplotlib.collections.PathCollection at 0x134b3cf50>"
      ]
     },
     "execution_count": 71,
     "metadata": {},
     "output_type": "execute_result"
    },
    {
     "data": {
      "image/png": "[encoded data removed]",
      "text/plain": [
       "<Figure size 640x480 with 1 Axes>"
      ]
     },
     "metadata": {},
     "output_type": "display_data"
    }
   ],
   "source": [
    "fig, ax = plt.subplots()\n",
    "n_basis = [len(r[\"mol\"]._basis[\"O1\"]) * 3 for r in results.values()]\n",
    "cmap = mpl.colormaps[\"cividis\"]\n",
    "ax.scatter(x = n_basis, y = [r[\"RHF\"].energy_tot() for r in results.values()], color=\"red\")\n",
    "ax.scatter(x = n_basis, y = [r[\"CAS(4,4)SCF\"].e_tot for r in results.values()], color=cmap(0.0))\n",
    "ax.scatter(x = n_basis, y = [r[\"CAS(6,6)SCF\"].e_tot for r in results.values()], color=cmap(0.2))\n",
    "ax.scatter(x = n_basis, y = [r[\"CAS(8,8)SCF\"].e_tot for r in results.values()], color=cmap(0.4))\n",
    "ax.scatter(x = n_basis, y = [r[\"CAS(10,10)SCF\"].e_tot for r in results.values()], color=cmap(0.6))\n",
    "ax.scatter(x = n_basis, y = [r[\"CAS(12,12)SCF\"].e_tot for r in results.values()], color=cmap(0.8))"
   ]
  },
  {
   "cell_type": "markdown",
   "metadata": {},
   "source": [
    "Some observations:\n",
    "* For a couple of cases, e.g. (4,4) for all three and (8,8) for quadruple zeta, adding diffuse functions leads to a solution with higher energy than the case without diffuse functions. This probably means that the solver has converged to an incorrect state - could check this by looking at the excited states and checking for negative excitations.\n",
    "* Active space size has a similar impact on all cases"
   ]
  },
  {
   "cell_type": "code",
   "execution_count": null,
   "metadata": {},
   "outputs": [],
   "source": []
  }
 ],
 "metadata": {
  "kernelspec": {
   "display_name": ".venv",
   "language": "python",
   "name": "python3"
  },
  "language_info": {
   "codemirror_mode": {
    "name": "ipython",
    "version": 3
   },
   "file_extension": ".py",
   "mimetype": "text/x-python",
   "name": "python",
   "nbconvert_exporter": "python",
   "pygments_lexer": "ipython3",
   "version": "3.11.4"
  },
  "orig_nbformat": 4
 },
 "nbformat": 4,
 "nbformat_minor": 2
}
